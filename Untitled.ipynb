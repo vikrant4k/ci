{
 "cells": [
  {
   "cell_type": "code",
   "execution_count": 43,
   "metadata": {},
   "outputs": [],
   "source": [
    "import torch\n",
    "from torch.autograd import Variable\n",
    "from random import randint\n",
    "import tensorflow as tf\n",
    "import torch.nn as nn\n",
    "import numpy as np\n",
    "import csv\n",
    "import math\n",
    "import os.path\n",
    "import timeit\n",
    "from collections import deque\n",
    "\n",
    "\n",
    "N, D_in, H, D_out = 64, 1000, 100, 10\n",
    "\n",
    "\n",
    "x = Variable(torch.randn(N, D_in),requires_grad=False)\n",
    "y = Variable(torch.randn(N, 1), requires_grad=False)\n",
    "relu = nn.ReLU()\n",
    "sig=nn.Sigmoid()\n",
    "tanh=nn.Tanh()\n",
    "loss_fn = torch.nn.MSELoss(size_average=False)\n",
    "learning_rate=0.001\n",
    "\n",
    "class Network:\n",
    "    nueron_sizes_list=[30,40,50,60]\n",
    "    hidden_layers_list=[1,2,3]\n",
    "    activation_function_list=[sig,relu,tanh]\n",
    "    def __init__(self,p):\n",
    "        self.nueron_sizes=Network.nueron_sizes_list[p[0]]\n",
    "        self.hidden_layer=Network.hidden_layers_list[p[1]]\n",
    "        print(p[2])\n",
    "        self.activation_function=Network.activation_function_list[p[2]]\n",
    "        self.dict_layers={}\n",
    "        self.error=0\n",
    "        \n",
    "    def create_weights(self):\n",
    "        num_weights_per_layer=int(self.nueron_sizes/(self.hidden_layer+1))\n",
    "        \n",
    "        for i in range(0,self.hidden_layer):\n",
    "            if(i==0):\n",
    "                w=Variable(torch.randn(D_in, num_weights_per_layer), requires_grad=True)\n",
    "                self.dict_layers[i]=w\n",
    "            if(i!=0 and i<(self.hidden_layer-1)):\n",
    "                w=Variable(torch.randn(num_weights_per_layer, num_weights_per_layer), requires_grad=True)\n",
    "                self.dict_layers[i]=w\n",
    "            if(i==(self.hidden_layer-1)):\n",
    "                w=Variable(torch.randn(self.dict_layers[i-1].data.shape[1], 1), requires_grad=True)\n",
    "                self.dict_layers[i]=w\n",
    "            \n",
    "            \n",
    "    def forward(self,x_temp):\n",
    "        \n",
    "        for i in range(0,self.hidden_layer):\n",
    "            if(i==0):\n",
    "                self.output=self.activation_function(x.mm(self.dict_layers[i]))\n",
    "            if(i!=0 and i<(self.hidden_layer-1)):\n",
    "                self.output=self.activation_function(output.mm(self.dict_layers[i]))\n",
    "            if(i==(self.hidden_layer-1)):\n",
    "                self.output=output.mm(self.dict_layers[i])\n",
    "    \n",
    "    def train_network(self):\n",
    "        \n",
    "        for epoch in range(0,30):\n",
    "            for i in range(0,len(x)):\n",
    "                self.forward(x[i])\n",
    "                loss=loss_fn(y[i],self.output)\n",
    "                loss.backward()\n",
    "                self.error+=loss.data\n",
    "                for keys in self.dict_layers.keys():\n",
    "                    w=self.dict_layers[i]\n",
    "                    w.data=w.data-learning_rate*w.grad.data\n",
    "                    self.dict_layers[i]=w \n",
    "            \n",
    "            \n",
    "            \n",
    "    "
   ]
  },
  {
   "cell_type": "code",
   "execution_count": 44,
   "metadata": {},
   "outputs": [],
   "source": [
    "class Mutate:\n",
    "      \n",
    "    def __init__(self,param_list):\n",
    "        self.param_list=param_list\n",
    "        self.nn={}\n",
    "    def create_parent(self,param_list):\n",
    "        self.total_choices=1\n",
    "        for i in range(0,len(param_list)):\n",
    "            self.total_choices*=param_list[i]  \n",
    "        choices=[]\n",
    "        for i in range(0,self.total_choices):\n",
    "            p=[]\n",
    "            for j in range(0,len(param_list)):\n",
    "                \n",
    "                p.append(randint(0, param_list[j]))\n",
    "            choices.append(p)\n",
    "  \n",
    "        return choices\n",
    "\n",
    "    def create_nueral_nets(self,choices):\n",
    "            for i in range(0,len(choices)):\n",
    "                network=Network(choices[i])\n",
    "                network.create_weights()\n",
    "                self.nn[network]=0.0\n",
    "    def find_best_parents(self):\n",
    "        for netowrk in self.nn.keys():\n",
    "            network.train_network()\n",
    "            print(network.error)\n",
    "            \n",
    "    \n",
    "            "
   ]
  },
  {
   "cell_type": "code",
   "execution_count": 45,
   "metadata": {},
   "outputs": [
    {
     "name": "stdout",
     "output_type": "stream",
     "text": [
      "1\n"
     ]
    },
    {
     "ename": "KeyError",
     "evalue": "-1",
     "output_type": "error",
     "traceback": [
      "\u001b[0;31m---------------------------------------------------------------------------\u001b[0m",
      "\u001b[0;31mKeyError\u001b[0m                                  Traceback (most recent call last)",
      "\u001b[0;32m<ipython-input-45-7dc0c5069d0d>\u001b[0m in \u001b[0;36m<module>\u001b[0;34m()\u001b[0m\n\u001b[1;32m      2\u001b[0m \u001b[0mmutate\u001b[0m\u001b[0;34m=\u001b[0m\u001b[0mMutate\u001b[0m\u001b[0;34m(\u001b[0m\u001b[0mparam_list\u001b[0m\u001b[0;34m)\u001b[0m\u001b[0;34m\u001b[0m\u001b[0m\n\u001b[1;32m      3\u001b[0m \u001b[0mchoices\u001b[0m\u001b[0;34m=\u001b[0m\u001b[0mmutate\u001b[0m\u001b[0;34m.\u001b[0m\u001b[0mcreate_parent\u001b[0m\u001b[0;34m(\u001b[0m\u001b[0mparam_list\u001b[0m\u001b[0;34m)\u001b[0m\u001b[0;34m\u001b[0m\u001b[0m\n\u001b[0;32m----> 4\u001b[0;31m \u001b[0mmutate\u001b[0m\u001b[0;34m.\u001b[0m\u001b[0mcreate_nueral_nets\u001b[0m\u001b[0;34m(\u001b[0m\u001b[0mchoices\u001b[0m\u001b[0;34m)\u001b[0m\u001b[0;34m\u001b[0m\u001b[0m\n\u001b[0m",
      "\u001b[0;32m<ipython-input-44-7ad6e320e87e>\u001b[0m in \u001b[0;36mcreate_nueral_nets\u001b[0;34m(self, choices)\u001b[0m\n\u001b[1;32m     21\u001b[0m             \u001b[0;32mfor\u001b[0m \u001b[0mi\u001b[0m \u001b[0;32min\u001b[0m \u001b[0mrange\u001b[0m\u001b[0;34m(\u001b[0m\u001b[0;36m0\u001b[0m\u001b[0;34m,\u001b[0m\u001b[0mlen\u001b[0m\u001b[0;34m(\u001b[0m\u001b[0mchoices\u001b[0m\u001b[0;34m)\u001b[0m\u001b[0;34m)\u001b[0m\u001b[0;34m:\u001b[0m\u001b[0;34m\u001b[0m\u001b[0m\n\u001b[1;32m     22\u001b[0m                 \u001b[0mnetwork\u001b[0m\u001b[0;34m=\u001b[0m\u001b[0mNetwork\u001b[0m\u001b[0;34m(\u001b[0m\u001b[0mchoices\u001b[0m\u001b[0;34m[\u001b[0m\u001b[0mi\u001b[0m\u001b[0;34m]\u001b[0m\u001b[0;34m)\u001b[0m\u001b[0;34m\u001b[0m\u001b[0m\n\u001b[0;32m---> 23\u001b[0;31m                 \u001b[0mnetwork\u001b[0m\u001b[0;34m.\u001b[0m\u001b[0mcreate_weights\u001b[0m\u001b[0;34m(\u001b[0m\u001b[0;34m)\u001b[0m\u001b[0;34m\u001b[0m\u001b[0m\n\u001b[0m\u001b[1;32m     24\u001b[0m                 \u001b[0mself\u001b[0m\u001b[0;34m.\u001b[0m\u001b[0mnn\u001b[0m\u001b[0;34m[\u001b[0m\u001b[0mnetwork\u001b[0m\u001b[0;34m]\u001b[0m\u001b[0;34m=\u001b[0m\u001b[0;36m0.0\u001b[0m\u001b[0;34m\u001b[0m\u001b[0m\n\u001b[1;32m     25\u001b[0m     \u001b[0;32mdef\u001b[0m \u001b[0mfind_best_parents\u001b[0m\u001b[0;34m(\u001b[0m\u001b[0mself\u001b[0m\u001b[0;34m)\u001b[0m\u001b[0;34m:\u001b[0m\u001b[0;34m\u001b[0m\u001b[0m\n",
      "\u001b[0;32m<ipython-input-43-c48d58d7eef2>\u001b[0m in \u001b[0;36mcreate_weights\u001b[0;34m(self)\u001b[0m\n\u001b[1;32m     46\u001b[0m                 \u001b[0mself\u001b[0m\u001b[0;34m.\u001b[0m\u001b[0mdict_layers\u001b[0m\u001b[0;34m[\u001b[0m\u001b[0mi\u001b[0m\u001b[0;34m]\u001b[0m\u001b[0;34m=\u001b[0m\u001b[0mw\u001b[0m\u001b[0;34m\u001b[0m\u001b[0m\n\u001b[1;32m     47\u001b[0m             \u001b[0;32mif\u001b[0m\u001b[0;34m(\u001b[0m\u001b[0mi\u001b[0m\u001b[0;34m==\u001b[0m\u001b[0;34m(\u001b[0m\u001b[0mself\u001b[0m\u001b[0;34m.\u001b[0m\u001b[0mhidden_layer\u001b[0m\u001b[0;34m-\u001b[0m\u001b[0;36m1\u001b[0m\u001b[0;34m)\u001b[0m\u001b[0;34m)\u001b[0m\u001b[0;34m:\u001b[0m\u001b[0;34m\u001b[0m\u001b[0m\n\u001b[0;32m---> 48\u001b[0;31m                 \u001b[0mw\u001b[0m\u001b[0;34m=\u001b[0m\u001b[0mVariable\u001b[0m\u001b[0;34m(\u001b[0m\u001b[0mtorch\u001b[0m\u001b[0;34m.\u001b[0m\u001b[0mrandn\u001b[0m\u001b[0;34m(\u001b[0m\u001b[0mself\u001b[0m\u001b[0;34m.\u001b[0m\u001b[0mdict_layers\u001b[0m\u001b[0;34m[\u001b[0m\u001b[0mi\u001b[0m\u001b[0;34m-\u001b[0m\u001b[0;36m1\u001b[0m\u001b[0;34m]\u001b[0m\u001b[0;34m.\u001b[0m\u001b[0mdata\u001b[0m\u001b[0;34m.\u001b[0m\u001b[0mshape\u001b[0m\u001b[0;34m[\u001b[0m\u001b[0;36m1\u001b[0m\u001b[0;34m]\u001b[0m\u001b[0;34m,\u001b[0m \u001b[0;36m1\u001b[0m\u001b[0;34m)\u001b[0m\u001b[0;34m,\u001b[0m \u001b[0mrequires_grad\u001b[0m\u001b[0;34m=\u001b[0m\u001b[0;32mTrue\u001b[0m\u001b[0;34m)\u001b[0m\u001b[0;34m\u001b[0m\u001b[0m\n\u001b[0m\u001b[1;32m     49\u001b[0m                 \u001b[0mself\u001b[0m\u001b[0;34m.\u001b[0m\u001b[0mdict_layers\u001b[0m\u001b[0;34m[\u001b[0m\u001b[0mi\u001b[0m\u001b[0;34m]\u001b[0m\u001b[0;34m=\u001b[0m\u001b[0mw\u001b[0m\u001b[0;34m\u001b[0m\u001b[0m\n\u001b[1;32m     50\u001b[0m \u001b[0;34m\u001b[0m\u001b[0m\n",
      "\u001b[0;31mKeyError\u001b[0m: -1"
     ]
    }
   ],
   "source": [
    "param_list=[4,3,3]\n",
    "mutate=Mutate(param_list)\n",
    "choices=mutate.create_parent(param_list)\n",
    "mutate.create_nueral_nets(choices)\n"
   ]
  },
  {
   "cell_type": "code",
   "execution_count": null,
   "metadata": {
    "collapsed": true
   },
   "outputs": [],
   "source": []
  }
 ],
 "metadata": {
  "kernelspec": {
   "display_name": "Python 3",
   "language": "python",
   "name": "python3"
  },
  "language_info": {
   "codemirror_mode": {
    "name": "ipython",
    "version": 3
   },
   "file_extension": ".py",
   "mimetype": "text/x-python",
   "name": "python",
   "nbconvert_exporter": "python",
   "pygments_lexer": "ipython3",
   "version": "3.6.3"
  }
 },
 "nbformat": 4,
 "nbformat_minor": 2
}
